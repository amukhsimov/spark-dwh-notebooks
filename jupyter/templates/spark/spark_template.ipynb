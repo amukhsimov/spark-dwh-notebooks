{
 "cells": [
  {
   "cell_type": "code",
   "execution_count": null,
   "id": "cd732dd7-5b6e-4821-bcb7-5f455d9879af",
   "metadata": {
    "pycharm": {
     "name": "#%%\n"
    }
   },
   "outputs": [],
   "source": [
    "import os\n",
    "JUPYTER_DIR = \"/opt/jupyter\"\n",
    "\n",
    "execfile(os.path.join(JUPYTER_DIR, \"scripts/__init__.py\"), globals(), locals())"
   ]
  },
  {
   "cell_type": "code",
   "execution_count": null,
   "id": "f39f6373-29a2-4788-9d64-3fb43492578a",
   "metadata": {},
   "outputs": [],
   "source": []
  }
 ],
 "metadata": {
  "kernelspec": {
   "display_name": "Python 3 (ipykernel)",
   "language": "python",
   "name": "python3"
  },
  "language_info": {
   "codemirror_mode": {
    "name": "ipython",
    "version": 3
   },
   "file_extension": ".py",
   "mimetype": "text/x-python",
   "name": "python",
   "nbconvert_exporter": "python",
   "pygments_lexer": "ipython3",
   "version": "3.9.18"
  }
 },
 "nbformat": 4,
 "nbformat_minor": 5
}